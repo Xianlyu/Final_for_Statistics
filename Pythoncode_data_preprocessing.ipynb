{
 "cells": [
  {
   "cell_type": "markdown",
   "metadata": {},
   "source": [
    "# 1 数据预处理"
   ]
  },
  {
   "cell_type": "markdown",
   "metadata": {},
   "source": [
    "## 1.1 一些基本情况的说明"
   ]
  },
  {
   "cell_type": "code",
   "execution_count": 1,
   "metadata": {},
   "outputs": [
    {
     "name": "stdout",
     "output_type": "stream",
     "text": [
      "3.7.4 (default, Aug  9 2019, 18:34:13) [MSC v.1915 64 bit (AMD64)]\n",
      "G:\\Anaconda\\python.exe\n"
     ]
    }
   ],
   "source": [
    "#所使用的python版本与运行环境\n",
    "import sys\n",
    "print(sys.version)\n",
    "print(sys.executable)"
   ]
  },
  {
   "cell_type": "code",
   "execution_count": 2,
   "metadata": {},
   "outputs": [],
   "source": [
    "#所使用的包与其版本\n",
    "import numpy as np\n",
    "import pandas as pd\n",
    "#import random\n",
    "from warnings import warn\n",
    "import sklearn\n",
    "from sklearn.decomposition import PCA"
   ]
  },
  {
   "cell_type": "code",
   "execution_count": 3,
   "metadata": {},
   "outputs": [
    {
     "name": "stdout",
     "output_type": "stream",
     "text": [
      "numpy的版本为： 1.19.5\n",
      "pandas的版本为： 1.3.3\n",
      "sklearn的版本为: 0.23.2\n"
     ]
    }
   ],
   "source": [
    "print(\"numpy的版本为：\",np.__version__)\n",
    "print(\"pandas的版本为：\",pd.__version__)\n",
    "print(\"sklearn的版本为:\",sklearn.__version__)"
   ]
  },
  {
   "cell_type": "code",
   "execution_count": 4,
   "metadata": {},
   "outputs": [
    {
     "name": "stdout",
     "output_type": "stream",
     "text": [
      "(15874, 50)\n"
     ]
    },
    {
     "data": {
      "text/html": [
       "<div>\n",
       "<style scoped>\n",
       "    .dataframe tbody tr th:only-of-type {\n",
       "        vertical-align: middle;\n",
       "    }\n",
       "\n",
       "    .dataframe tbody tr th {\n",
       "        vertical-align: top;\n",
       "    }\n",
       "\n",
       "    .dataframe thead th {\n",
       "        text-align: right;\n",
       "    }\n",
       "</style>\n",
       "<table border=\"1\" class=\"dataframe\">\n",
       "  <thead>\n",
       "    <tr style=\"text-align: right;\">\n",
       "      <th></th>\n",
       "      <th>id</th>\n",
       "      <th>age</th>\n",
       "      <th>sex</th>\n",
       "      <th>prov</th>\n",
       "      <th>hukou</th>\n",
       "      <th>residence</th>\n",
       "      <th>edu</th>\n",
       "      <th>occupation</th>\n",
       "      <th>family_economic_condition</th>\n",
       "      <th>living_expenditure</th>\n",
       "      <th>...</th>\n",
       "      <th>b31</th>\n",
       "      <th>b32</th>\n",
       "      <th>b33</th>\n",
       "      <th>b34</th>\n",
       "      <th>b35</th>\n",
       "      <th>b36</th>\n",
       "      <th>b37</th>\n",
       "      <th>b38</th>\n",
       "      <th>b39</th>\n",
       "      <th>b310</th>\n",
       "    </tr>\n",
       "  </thead>\n",
       "  <tbody>\n",
       "    <tr>\n",
       "      <th>0</th>\n",
       "      <td>11000118.0</td>\n",
       "      <td>104.0</td>\n",
       "      <td>2</td>\n",
       "      <td>11</td>\n",
       "      <td>1.0</td>\n",
       "      <td>1</td>\n",
       "      <td>0.0</td>\n",
       "      <td>4.0</td>\n",
       "      <td>4.0</td>\n",
       "      <td>2.0</td>\n",
       "      <td>...</td>\n",
       "      <td>8.0</td>\n",
       "      <td>8.0</td>\n",
       "      <td>8.0</td>\n",
       "      <td>8.0</td>\n",
       "      <td>8.0</td>\n",
       "      <td>8.0</td>\n",
       "      <td>8.0</td>\n",
       "      <td>8.0</td>\n",
       "      <td>8.0</td>\n",
       "      <td>2.0</td>\n",
       "    </tr>\n",
       "    <tr>\n",
       "      <th>1</th>\n",
       "      <td>11000218.0</td>\n",
       "      <td>101.0</td>\n",
       "      <td>2</td>\n",
       "      <td>11</td>\n",
       "      <td>1.0</td>\n",
       "      <td>1</td>\n",
       "      <td>0.0</td>\n",
       "      <td>2.0</td>\n",
       "      <td>3.0</td>\n",
       "      <td>1.0</td>\n",
       "      <td>...</td>\n",
       "      <td>8.0</td>\n",
       "      <td>8.0</td>\n",
       "      <td>8.0</td>\n",
       "      <td>8.0</td>\n",
       "      <td>8.0</td>\n",
       "      <td>8.0</td>\n",
       "      <td>8.0</td>\n",
       "      <td>8.0</td>\n",
       "      <td>8.0</td>\n",
       "      <td>8.0</td>\n",
       "    </tr>\n",
       "    <tr>\n",
       "      <th>2</th>\n",
       "      <td>11000318.0</td>\n",
       "      <td>100.0</td>\n",
       "      <td>2</td>\n",
       "      <td>11</td>\n",
       "      <td>1.0</td>\n",
       "      <td>1</td>\n",
       "      <td>0.0</td>\n",
       "      <td>7.0</td>\n",
       "      <td>3.0</td>\n",
       "      <td>1.0</td>\n",
       "      <td>...</td>\n",
       "      <td>8.0</td>\n",
       "      <td>2.0</td>\n",
       "      <td>5.0</td>\n",
       "      <td>8.0</td>\n",
       "      <td>8.0</td>\n",
       "      <td>8.0</td>\n",
       "      <td>8.0</td>\n",
       "      <td>5.0</td>\n",
       "      <td>5.0</td>\n",
       "      <td>2.0</td>\n",
       "    </tr>\n",
       "    <tr>\n",
       "      <th>3</th>\n",
       "      <td>11000418.0</td>\n",
       "      <td>103.0</td>\n",
       "      <td>2</td>\n",
       "      <td>11</td>\n",
       "      <td>1.0</td>\n",
       "      <td>1</td>\n",
       "      <td>0.0</td>\n",
       "      <td>7.0</td>\n",
       "      <td>2.0</td>\n",
       "      <td>1.0</td>\n",
       "      <td>...</td>\n",
       "      <td>5.0</td>\n",
       "      <td>3.0</td>\n",
       "      <td>5.0</td>\n",
       "      <td>5.0</td>\n",
       "      <td>1.0</td>\n",
       "      <td>5.0</td>\n",
       "      <td>1.0</td>\n",
       "      <td>5.0</td>\n",
       "      <td>5.0</td>\n",
       "      <td>2.0</td>\n",
       "    </tr>\n",
       "    <tr>\n",
       "      <th>4</th>\n",
       "      <td>11000518.0</td>\n",
       "      <td>102.0</td>\n",
       "      <td>2</td>\n",
       "      <td>11</td>\n",
       "      <td>1.0</td>\n",
       "      <td>1</td>\n",
       "      <td>9.0</td>\n",
       "      <td>2.0</td>\n",
       "      <td>2.0</td>\n",
       "      <td>1.0</td>\n",
       "      <td>...</td>\n",
       "      <td>4.0</td>\n",
       "      <td>3.0</td>\n",
       "      <td>5.0</td>\n",
       "      <td>3.0</td>\n",
       "      <td>8.0</td>\n",
       "      <td>5.0</td>\n",
       "      <td>3.0</td>\n",
       "      <td>4.0</td>\n",
       "      <td>4.0</td>\n",
       "      <td>3.0</td>\n",
       "    </tr>\n",
       "  </tbody>\n",
       "</table>\n",
       "<p>5 rows × 50 columns</p>\n",
       "</div>"
      ],
      "text/plain": [
       "           id    age  sex  prov  hukou  residence  edu  occupation  \\\n",
       "0  11000118.0  104.0    2    11    1.0          1  0.0         4.0   \n",
       "1  11000218.0  101.0    2    11    1.0          1  0.0         2.0   \n",
       "2  11000318.0  100.0    2    11    1.0          1  0.0         7.0   \n",
       "3  11000418.0  103.0    2    11    1.0          1  0.0         7.0   \n",
       "4  11000518.0  102.0    2    11    1.0          1  9.0         2.0   \n",
       "\n",
       "   family_economic_condition  living_expenditure  ...  b31  b32  b33  b34  \\\n",
       "0                        4.0                 2.0  ...  8.0  8.0  8.0  8.0   \n",
       "1                        3.0                 1.0  ...  8.0  8.0  8.0  8.0   \n",
       "2                        3.0                 1.0  ...  8.0  2.0  5.0  8.0   \n",
       "3                        2.0                 1.0  ...  5.0  3.0  5.0  5.0   \n",
       "4                        2.0                 1.0  ...  4.0  3.0  5.0  3.0   \n",
       "\n",
       "   b35  b36  b37  b38  b39  b310  \n",
       "0  8.0  8.0  8.0  8.0  8.0   2.0  \n",
       "1  8.0  8.0  8.0  8.0  8.0   8.0  \n",
       "2  8.0  8.0  8.0  5.0  5.0   2.0  \n",
       "3  1.0  5.0  1.0  5.0  5.0   2.0  \n",
       "4  8.0  5.0  3.0  4.0  4.0   3.0  \n",
       "\n",
       "[5 rows x 50 columns]"
      ]
     },
     "execution_count": 4,
     "metadata": {},
     "output_type": "execute_result"
    }
   ],
   "source": [
    "#所使用的数据\n",
    "io=r'G:/Pythontask/final_py/depression.csv'\n",
    "df=pd.read_csv(io,encoding='gbk')\n",
    "print(df.shape) #原始数据的行数与列数\n",
    "df.head()"
   ]
  },
  {
   "cell_type": "code",
   "execution_count": 5,
   "metadata": {},
   "outputs": [
    {
     "data": {
      "text/plain": [
       "['id',\n",
       " 'age',\n",
       " 'sex',\n",
       " 'prov',\n",
       " 'hukou',\n",
       " 'residence',\n",
       " 'edu',\n",
       " 'occupation',\n",
       " 'family_economic_condition',\n",
       " 'living_expenditure',\n",
       " 'marriage',\n",
       " 'coresidence',\n",
       " 'housework',\n",
       " 'taichi',\n",
       " 'squaredance',\n",
       " 'friends',\n",
       " 'garden',\n",
       " 'news',\n",
       " 'pets',\n",
       " 'cards',\n",
       " 'tv',\n",
       " 'social',\n",
       " 'smoke',\n",
       " 'alcohol',\n",
       " 'exercise',\n",
       " 'weight',\n",
       " 'height',\n",
       " 'fruit',\n",
       " 'vegetable',\n",
       " 'fish',\n",
       " 'nut',\n",
       " 'tea',\n",
       " 'self_rated_health',\n",
       " 'disease',\n",
       " 'ADL1',\n",
       " 'ADL2',\n",
       " 'ADL3',\n",
       " 'ADL4',\n",
       " 'ADL5',\n",
       " 'ADL6',\n",
       " 'b31',\n",
       " 'b32',\n",
       " 'b33',\n",
       " 'b34',\n",
       " 'b35',\n",
       " 'b36',\n",
       " 'b37',\n",
       " 'b38',\n",
       " 'b39',\n",
       " 'b310']"
      ]
     },
     "execution_count": 5,
     "metadata": {},
     "output_type": "execute_result"
    }
   ],
   "source": [
    "#原始数据的所有列名\n",
    "list(df)"
   ]
  },
  {
   "cell_type": "markdown",
   "metadata": {},
   "source": [
    "## 1.2 创建一个Questiondata类来对数据进行预处理"
   ]
  },
  {
   "cell_type": "code",
   "execution_count": 6,
   "metadata": {},
   "outputs": [],
   "source": [
    "class RatioError(ValueError):\n",
    "    \"\"\"定义异常类\"\"\"\n",
    "    pass"
   ]
  },
  {
   "cell_type": "code",
   "execution_count": 7,
   "metadata": {},
   "outputs": [],
   "source": [
    "class Questiondata:\n",
    "    \"\"\"定义问卷数据类\"\"\"\n",
    "    def __init__(self,df):\n",
    "        self.data=df\n",
    "    \n",
    "    #查看某一列的不重复元素：\n",
    "    def unique_data(colname):\n",
    "        self.data[colname].unique()\n",
    "    \n",
    "    #定义一个方法用来替换变量\n",
    "    def trans_data(self,dic,colname):\n",
    "        for key,value in dic.items():\n",
    "            key=int(key)\n",
    "            self.data[colname].replace(value,key,inplace=True)\n",
    "    \n",
    "    #将身高和体重合成一个新的变量BMI\n",
    "    def BMI(self):\n",
    "        self.data['BMI']=self.data.weight/((self.data.height/100)**2)\n",
    "        \n",
    "    #将某一列中的缺失值全部替换成某一个特定的值\n",
    "    def tran_na(self,colname,num):\n",
    "        self.data[colname].fillna(num,inplace=True)\n",
    "        \n",
    "    #删除某一列大于某个特定值的行并输出删除的元素条数\n",
    "    def drop_row(self,colname,num,inplace_type=True):\n",
    "        index=self.data[self.data[colname]>=num].index\n",
    "        self.data.drop(index,inplace=inplace_type)\n",
    "        print(\"对于变量\",colname,\" 删除的行数为：\",len(index))\n",
    "    \n",
    "    #除了某一列，其它列均删除大于某个特定值的行并输出删除的元素条数\n",
    "    def drop_row_mul(self,colnames,num,inplace_type=True):\n",
    "        temp_list=list(filter(lambda x: x not in colnames,list(self.data)))\n",
    "        for i in temp_list:\n",
    "            self.drop_row(i,num,inplace_type)\n",
    "        \n",
    "    #将某几列的值相加生成一个新的变量\n",
    "    def sum_col(self,col_list,newname):\n",
    "        self.data[newname]=self.data[col_list].sum(axis=1)\n",
    "    \n",
    "    #求某一列缺失值的个数，且当缺失值个数超过1000的时候抛出警告\n",
    "    def nan_num(self,colname):\n",
    "        foo=self.data[colname]\n",
    "        index=pd.isnull(self.data[colname])\n",
    "        nan_num=len(foo[index])\n",
    "        print(colname,\" 缺失值个数为：\",nan_num)\n",
    "        if nan_num>1000:\n",
    "            warn(\"缺失值的个数超过1000了\")\n",
    "        \n",
    "    #求除去某些列的缺失值的个数\n",
    "    def nan_num_drop(self,colnames):\n",
    "        temp_list=list(filter(lambda x: x not in colnames,list(self.data)))\n",
    "        for i in temp_list:\n",
    "            self.nan_num(i)  \n",
    "    \n",
    "    #删除所有的缺失值并输出删除的数据个数：\n",
    "    def drop_nan_total(self):\n",
    "        before=self.data.shape[0]\n",
    "        self.data.dropna(inplace=True)\n",
    "        after=self.data.shape[0]\n",
    "        print(\"删除的缺失值个数为：\",before-after)\n",
    "    \n",
    "    #利用主成分分析生成一个新的变量：\n",
    "    def pca_new(self,colnames,new_name,pca_num=3):\n",
    "        X=self.data.loc[:,colnames]\n",
    "        model=PCA(n_components=pca_num,whiten=True)\n",
    "        model.fit(X)\n",
    "        components=model.components_\n",
    "        explained_var=model.explained_variance_\n",
    "        explained_var_ratio=model.explained_variance_ratio_\n",
    "        print(\"各主成分的系数为：\\n\",components,'\\n')\n",
    "        print(\"各主成分的方差为：\\n\",explained_var,'\\n')\n",
    "        print(\"各主成分的方差占比为：\\n\",explained_var_ratio,'\\n')\n",
    "        if explained_var_ratio[0]<0.5:\n",
    "            raise RatioError(\"Ratio less than 50%\")\n",
    "        else:\n",
    "            self.data[new_name]=list(model.fit_transform(X)[:,0])\n",
    "    \n",
    "    #将某一列变量变成分类的：\n",
    "    def cat_data(self,colname,order=True):\n",
    "        self.data[colname]=pd.Categorical(self.data[colname],ordered=order) \n",
    "        \n",
    "    #将除了某些列之外的列变成分类的：\n",
    "    def cat_data_mult(self,colnames,order=False):\n",
    "        temp_list=list(filter(lambda x: x not in colnames,list(self.data)))\n",
    "        for i in temp_list:\n",
    "            self.cat_data(i,order)  "
   ]
  },
  {
   "cell_type": "markdown",
   "metadata": {},
   "source": [
    "## 1.3 数据的替换与类别的整合"
   ]
  },
  {
   "cell_type": "code",
   "execution_count": 8,
   "metadata": {},
   "outputs": [],
   "source": [
    "#实例化\n",
    "CLHLS=Questiondata(df)"
   ]
  },
  {
   "cell_type": "code",
   "execution_count": 9,
   "metadata": {},
   "outputs": [],
   "source": [
    "#变量替换与整合\n",
    "#将性别整合成两个水平，1为男性，0为女性\n",
    "base_dic={'0':2}\n",
    "CLHLS.trans_data(base_dic,colname='sex')\n",
    "\n",
    "#将省份整合成4个水平\n",
    "prov_dic={'1':[11,12,14,13,21,22,23,61],\n",
    "          '2':[31,32,33,34,35,36,37],\n",
    "          '3':[41,42,43],\n",
    "          '4':[44,45,46,50,51]}\n",
    "CLHLS.trans_data(prov_dic,colname='prov')\n",
    "\n",
    "#将户口整合成两个水平，1为城市，0为农村\n",
    "CLHLS.trans_data(base_dic,colname='hukou')\n",
    "\n",
    "#将教育水平整合成3个水平，1为初等水平，2为中等水平，3为高等水平\n",
    "edu_dic={'2':list(range(1,7)),\n",
    "         '3':list(range(7,88)),\n",
    "         '1':0}\n",
    "CLHLS.trans_data(edu_dic,colname='edu')\n",
    "\n",
    "#将职业整合成2个水平\n",
    "occupation_dic={'1':[0,1],\n",
    "           '0':list(range(2,9))}\n",
    "CLHLS.trans_data(occupation_dic,colname='occupation')\n",
    "CLHLS.tran_na('occupation',0)\n",
    "\n",
    "#将生活支出整合成2个水平\n",
    "CLHLS.trans_data(base_dic,colname='living_expenditure')\n",
    "\n",
    "#将婚姻状况整合成2个水平\n",
    "mar_dic={'0':list(range(2,6))+[8]}\n",
    "CLHLS.trans_data(mar_dic,colname='marriage')\n",
    "\n",
    "#将社会活动整个成3个水平\n",
    "act_dic={'2':[2,3,4],\n",
    "        '3':1,\n",
    "        '1':5}\n",
    "for i in ['housework','taichi','squaredance','friends','garden','news','pets','cards','tv','social']:\n",
    "    CLHLS.trans_data(act_dic,colname=i)\n",
    "    \n",
    "#将吸烟、饮酒、锻炼整合成2个水平\n",
    "base_dic={'0':2}\n",
    "for i in ['smoke','alcohol','exercise']:\n",
    "    CLHLS.trans_data(base_dic,colname=i)\n",
    "    \n",
    "#将身高和体重合成一个新的变量BMI\n",
    "CLHLS.BMI()\n",
    "\n",
    "#将水果、蔬菜合成两个水平，1为经常吃，0为偶尔或者很少\n",
    "fruit_dic={'0':list(range(2,5))}\n",
    "for i in ['fruit','vegetable']:\n",
    "    CLHLS.trans_data(fruit_dic,colname=i)\n",
    "\n",
    "#将鱼和坚果合成两个水平，1为经常吃，0为偶尔或者很少\n",
    "fish_dic={'1':[1,2],\n",
    "          '0':list(range(3,6))}\n",
    "for i in ['fish','nut']:\n",
    "    CLHLS.trans_data(fish_dic,colname=i)\n",
    "    \n",
    "#将茶整合成10个水平，将所有的缺失值替换成10不喝茶\n",
    "CLHLS.tran_na('tea',10)\n",
    "\n",
    "#将健康自评整合成2个水平\n",
    "health_dic={'1':[1,2],\n",
    "           '0':[3,4,5]}\n",
    "CLHLS.trans_data(health_dic,colname='self_rated_health')\n",
    "\n",
    "#将疾病整合成3个水平，1为有慢性病，2为其它疾病，3为没有疾病\n",
    "disease1=[-2,3,4,5,11,14,17,19,20,24]\n",
    "disease2=list(filter(lambda x: x not in disease1+[1,2],list(range(-2,26))))\n",
    "disease_dic={'-2':2,\n",
    "             '-1':1,\n",
    "            '1':disease1,\n",
    "            '2':disease2}\n",
    "CLHLS.trans_data(disease_dic,colname='disease')\n",
    "CLHLS.tran_na('disease',3)\n",
    "\n",
    "#将生活能力整合成2类，1为不需要他人帮助，0为需要他人帮助\n",
    "ADL_dic={'0':[2,3]}\n",
    "for i in [\"ADL\"+str(x) for x in range(1,7)]:\n",
    "    CLHLS.trans_data(ADL_dic,colname=i)\n",
    "    \n",
    "#将抑郁量表重新进行度量，重新整合成3个等级的分数\n",
    "dep1_dic={'0':[1],'1':[2,3],'2':4,'3':5}\n",
    "positive=['b35','b37','b310']\n",
    "for i in positive:\n",
    "    CLHLS.trans_data(dep1_dic,colname=i)\n",
    "    \n",
    "dep2_dic={'-1':1,'0':5,'1':[3,4],'3':[-1]}\n",
    "negative=list(filter(lambda x: x not in positive,[\"b3\"+str(x) for x in range(1,11)]))\n",
    "for i in negative:\n",
    "    CLHLS.trans_data(dep2_dic,colname=i)"
   ]
  },
  {
   "cell_type": "markdown",
   "metadata": {},
   "source": [
    "## 1.4 对于缺失值的处理"
   ]
  },
  {
   "cell_type": "markdown",
   "metadata": {},
   "source": [
    "由于我们的分析目标是看老年人的各种活动与其抑郁程度的关系，因此那些抑郁程度有缺失值的样本我们必须进行删除。"
   ]
  },
  {
   "cell_type": "code",
   "execution_count": 10,
   "metadata": {},
   "outputs": [
    {
     "name": "stdout",
     "output_type": "stream",
     "text": [
      "对于变量 b31  删除的行数为： 1722\n",
      "对于变量 b32  删除的行数为： 379\n",
      "对于变量 b33  删除的行数为： 120\n",
      "对于变量 b34  删除的行数为： 104\n",
      "对于变量 b35  删除的行数为： 371\n",
      "对于变量 b36  删除的行数为： 36\n",
      "对于变量 b37  删除的行数为： 313\n",
      "对于变量 b38  删除的行数为： 30\n",
      "对于变量 b39  删除的行数为： 48\n",
      "对于变量 b310  删除的行数为： 6\n"
     ]
    }
   ],
   "source": [
    "#删除所有关于抑郁程度单项问题中得分大于等于8的行\n",
    "depression_list=[\"b3\"+str(x) for x in range(1,11)]\n",
    "for i in depression_list:\n",
    "    CLHLS.drop_row(i,8)"
   ]
  },
  {
   "cell_type": "markdown",
   "metadata": {},
   "source": [
    "另外，一般情况下变量（除了id,年龄，身高，体重BMI，以及饮茶）中等于8（或者88）的为“不知道”，等于9（或者99）的为“缺失”，由于这些缺失值不多，我们也可以将其删除。"
   ]
  },
  {
   "cell_type": "code",
   "execution_count": 11,
   "metadata": {},
   "outputs": [
    {
     "name": "stdout",
     "output_type": "stream",
     "text": [
      "对于变量 sex  删除的行数为： 0\n",
      "对于变量 prov  删除的行数为： 0\n",
      "对于变量 hukou  删除的行数为： 0\n",
      "对于变量 residence  删除的行数为： 0\n",
      "对于变量 edu  删除的行数为： 18\n",
      "对于变量 occupation  删除的行数为： 0\n",
      "对于变量 family_economic_condition  删除的行数为： 22\n",
      "对于变量 living_expenditure  删除的行数为： 0\n",
      "对于变量 marriage  删除的行数为： 2\n",
      "对于变量 coresidence  删除的行数为： 0\n",
      "对于变量 housework  删除的行数为： 1\n",
      "对于变量 taichi  删除的行数为： 1\n",
      "对于变量 squaredance  删除的行数为： 1\n",
      "对于变量 friends  删除的行数为： 0\n",
      "对于变量 garden  删除的行数为： 1\n",
      "对于变量 news  删除的行数为： 4\n",
      "对于变量 pets  删除的行数为： 2\n",
      "对于变量 cards  删除的行数为： 0\n",
      "对于变量 tv  删除的行数为： 2\n",
      "对于变量 social  删除的行数为： 3\n",
      "对于变量 smoke  删除的行数为： 0\n",
      "对于变量 alcohol  删除的行数为： 1\n",
      "对于变量 exercise  删除的行数为： 1\n",
      "对于变量 fruit  删除的行数为： 1\n",
      "对于变量 vegetable  删除的行数为： 1\n",
      "对于变量 fish  删除的行数为： 0\n",
      "对于变量 nut  删除的行数为： 2\n",
      "对于变量 self_rated_health  删除的行数为： 11\n",
      "对于变量 disease  删除的行数为： 41\n",
      "对于变量 ADL1  删除的行数为： 1\n",
      "对于变量 ADL2  删除的行数为： 5\n",
      "对于变量 ADL3  删除的行数为： 1\n",
      "对于变量 ADL4  删除的行数为： 1\n",
      "对于变量 ADL5  删除的行数为： 0\n",
      "对于变量 ADL6  删除的行数为： 0\n"
     ]
    }
   ],
   "source": [
    "#删除基本的变量中得分大于等于8的行\n",
    "CLHLS.drop_row_mul(['tea','age','id','weight','height','BMI']+depression_list,8,inplace_type=True)"
   ]
  },
  {
   "cell_type": "code",
   "execution_count": 12,
   "metadata": {},
   "outputs": [
    {
     "name": "stdout",
     "output_type": "stream",
     "text": [
      "对于变量 weight  删除的行数为： 311\n",
      "对于变量 height  删除的行数为： 119\n"
     ]
    }
   ],
   "source": [
    "BMI_list=['weight','height']\n",
    "for i in BMI_list:\n",
    "    CLHLS.drop_row(i,500)"
   ]
  },
  {
   "cell_type": "markdown",
   "metadata": {},
   "source": [
    "现在我们的缺失值只剩下了nan项，我们需要看一下它们在每个变量中的分布情况，如果数量不多且对数据整体没有影响，我们可以直接删除，如果有特殊情况我们需要按需处理。因此这里在类的nan_num_drop方法中我们设置了警告，当缺失的样本个数超过1000的时候就会抛出警告。"
   ]
  },
  {
   "cell_type": "code",
   "execution_count": 13,
   "metadata": {},
   "outputs": [],
   "source": [
    "#为了方便后续对于数据的重新分析，我们这里将至此处理的数据保存到一个暂时的新questiondata实例中\n",
    "temp_CLHLS=Questiondata(CLHLS.data.copy())\n",
    "temp_CLHLS.data.drop('edu',axis=1, inplace=True)"
   ]
  },
  {
   "cell_type": "code",
   "execution_count": 14,
   "metadata": {},
   "outputs": [
    {
     "name": "stdout",
     "output_type": "stream",
     "text": [
      "id  缺失值个数为： 0\n",
      "age  缺失值个数为： 8\n",
      "sex  缺失值个数为： 0\n",
      "prov  缺失值个数为： 0\n",
      "hukou  缺失值个数为： 136\n",
      "residence  缺失值个数为： 0\n",
      "edu  缺失值个数为： 1846\n",
      "occupation  缺失值个数为： 0\n",
      "family_economic_condition  缺失值个数为： 180\n",
      "living_expenditure  缺失值个数为： 180\n",
      "marriage  缺失值个数为： 221\n",
      "coresidence  缺失值个数为： 272\n",
      "housework  缺失值个数为： 150\n",
      "taichi  缺失值个数为： 182\n",
      "squaredance  缺失值个数为： 179\n",
      "friends  缺失值个数为： 174\n",
      "garden  缺失值个数为： 143\n",
      "news  缺失值个数为： 139\n",
      "pets  缺失值个数为： 147\n",
      "cards  缺失值个数为： 138\n",
      "tv  缺失值个数为： 138\n",
      "social  缺失值个数为： 237\n",
      "smoke  缺失值个数为： 225\n",
      "alcohol  缺失值个数为： 293\n",
      "exercise  缺失值个数为： 275\n",
      "weight  缺失值个数为： 144\n",
      "height  缺失值个数为： 156\n",
      "fruit  缺失值个数为： 126\n",
      "vegetable  缺失值个数为： 120\n",
      "fish  缺失值个数为： 240\n",
      "nut  缺失值个数为： 258\n",
      "tea  缺失值个数为： 0\n",
      "self_rated_health  缺失值个数为： 130\n",
      "disease  缺失值个数为： 0\n",
      "ADL1  缺失值个数为： 156\n",
      "ADL2  缺失值个数为： 207\n",
      "ADL3  缺失值个数为： 145\n",
      "ADL4  缺失值个数为： 205\n",
      "ADL5  缺失值个数为： 155\n",
      "ADL6  缺失值个数为： 376\n",
      "BMI  缺失值个数为： 170\n"
     ]
    },
    {
     "name": "stderr",
     "output_type": "stream",
     "text": [
      "G:\\Anaconda\\lib\\site-packages\\ipykernel_launcher.py:47: UserWarning: 缺失值的个数超过1000了\n"
     ]
    }
   ],
   "source": [
    "#查看除了抑郁程度的所有列中缺失值的个数\n",
    "CLHLS.nan_num_drop(depression_list)\n",
    "#temp_CLHLS.nan_num_drop(depression_list)"
   ]
  },
  {
   "cell_type": "markdown",
   "metadata": {},
   "source": [
    "- 包含教育变量的时候抛出了警告，可以看出缺失值最多的变量为教育。但是由于教育水平暂无合适的填补方法，我们只能暂时先将教育这个变量进行删除。在后续的分析中，如果教育水平这个变量没有特别重要的作用我们可以将其删除，然后将分析步骤重复一遍。这也是为什么我们之前定义一个新实例的意义所在。但幸运的是，这样的情况并没有发生",
   ]
  },
  {
   "cell_type": "code",
   "execution_count": 15,
   "metadata": {},
   "outputs": [
    {
     "name": "stdout",
     "output_type": "stream",
     "text": [
      "删除的缺失值个数为： 3226\n"
     ]
    }
   ],
   "source": [
    "CLHLS.drop_nan_total()\n",
    "#temp_CLHLS.drop_nan_total()"
   ]
  },
  {
   "cell_type": "code",
   "execution_count": 16,
   "metadata": {},
   "outputs": [
    {
     "data": {
      "text/plain": [
       "(8966, 51)"
      ]
     },
     "execution_count": 16,
     "metadata": {},
     "output_type": "execute_result"
    }
   ],
   "source": [
    "#删去了全部的缺失值之后现在数据的维数\n",
    "CLHLS.data.shape\n",
    "#temp_CLHLS.data.shape"
   ]
  },
  {
   "cell_type": "markdown",
   "metadata": {},
   "source": [
    "## 1.5 增添新的变量"
   ]
  },
  {
   "cell_type": "code",
   "execution_count": 17,
   "metadata": {},
   "outputs": [],
   "source": [
    "#对抑郁程度生成一个新的得分变量\n",
    "col_list=[\"b3\"+str(x) for x in range(1,11)]\n",
    "CLHLS.sum_col(col_list,newname='depression')\n",
    "#temp_CLHLS.sum_col(col_list,newname='depression')"
   ]
  },
  {
   "cell_type": "code",
   "execution_count": 18,
   "metadata": {},
   "outputs": [
    {
     "name": "stdout",
     "output_type": "stream",
     "text": [
      "各主成分的系数为：\n",
      " [[-0.13191745  0.95746645 -0.25662382]\n",
      " [ 0.99027107  0.1157275  -0.07726812]\n",
      " [-0.0442832  -0.26432016 -0.9634178 ]] \n",
      "\n",
      "各主成分的方差为：\n",
      " [0.43293479 0.10130739 0.08991079] \n",
      "\n",
      "各主成分的方差占比为：\n",
      " [0.69363572 0.1623118  0.14405248] \n",
      "\n"
     ]
    }
   ],
   "source": [
    "#主成分分析\n",
    "name_list=[\"occupation\",\"family_economic_condition\",\"living_expenditure\"]\n",
    "CLHLS.pca_new(colnames=name_list,pca_num=3,new_name='social_eco')\n",
    "#temp_CLHLS.pca_new(colnames=name_list,pca_num=3,new_name='social_eco')"
   ]
  },
  {
   "cell_type": "markdown",
   "metadata": {},
   "source": [
    "这里我们参考了文献的一般研究方法，想利用PCA构建一个“经济水平”变量。从PCA的结果可以看出，第一个主成分解释了方差的近70\\%，而且其构成也是很有参考意义的——这个主成分得分越高，说明经济水平越低：因为我们将“职业”这个变量重新定义为0为非白领，1为白领；家庭经济条件则是分成了5个得分——得分越低说明越富有，越高说明越穷；生活支出的0则是意味着收入不能满足基本生活需求，1为收入能满足基本生活需求。"
   ]
  },
  {
   "cell_type": "markdown",
   "metadata": {},
   "source": [
    "## 1.6 改变变量类型"
   ]
  },
  {
   "cell_type": "code",
   "execution_count": 19,
   "metadata": {},
   "outputs": [],
   "source": [
    "#改变需要将数据变成有序变量的列\n",
    "order_list=['edu','family_economic_condition']+['housework','taichi','squaredance','friends','garden','news','pets','cards','tv','social']+[\"b3\"+str(x) for x in range(1,11)]\n",
    "for i in order_list:\n",
    "    #temp_CLHLS.cat_data(i)\n",
    "    CLHLS.cat_data(i)\n",
    "\n",
    "\n",
    "#改变不需要将数据变成有序变量的列\n",
    "norder_exp_list=order_list+['id','age','social_eco','weight','height','BMI','depression']\n",
    "CLHLS.cat_data_mult(norder_exp_list)\n",
    "#temp_CLHLS.cat_data_mult(norder_exp_list)"
   ]
  },
  {
   "cell_type": "code",
   "execution_count": 20,
   "metadata": {},
   "outputs": [
    {
     "name": "stdout",
     "output_type": "stream",
     "text": [
      "id                            float64\n",
      "age                           float64\n",
      "sex                          category\n",
      "prov                         category\n",
      "hukou                        category\n",
      "residence                    category\n",
      "edu                          category\n",
      "occupation                   category\n",
      "family_economic_condition    category\n",
      "living_expenditure           category\n",
      "marriage                     category\n",
      "coresidence                  category\n",
      "housework                    category\n",
      "taichi                       category\n",
      "squaredance                  category\n",
      "friends                      category\n",
      "garden                       category\n",
      "news                         category\n",
      "pets                         category\n",
      "cards                        category\n",
      "tv                           category\n",
      "social                       category\n",
      "smoke                        category\n",
      "alcohol                      category\n",
      "exercise                     category\n",
      "weight                        float64\n",
      "height                        float64\n",
      "fruit                        category\n",
      "vegetable                    category\n",
      "fish                         category\n",
      "nut                          category\n",
      "tea                          category\n",
      "self_rated_health            category\n",
      "disease                      category\n",
      "ADL1                         category\n",
      "ADL2                         category\n",
      "ADL3                         category\n",
      "ADL4                         category\n",
      "ADL5                         category\n",
      "ADL6                         category\n",
      "b31                          category\n",
      "b32                          category\n",
      "b33                          category\n",
      "b34                          category\n",
      "b35                          category\n",
      "b36                          category\n",
      "b37                          category\n",
      "b38                          category\n",
      "b39                          category\n",
      "b310                         category\n",
      "BMI                           float64\n",
      "depression                    float64\n",
      "social_eco                    float64\n",
      "dtype: object\n"
     ]
    }
   ],
   "source": [
    "print(CLHLS.data.dtypes)\n",
    "#print(temp_CLHLS.data.dtypes)"
   ]
  },
  {
   "cell_type": "markdown",
   "metadata": {},
   "source": [
    "到这里，我们的数据预处理部分总算是告一段落。接下来我们进入对于数据的分析部分。"
   ]
  }
 ],
 "metadata": {
  "kernelspec": {
   "display_name": "Python 3",
   "language": "python",
   "name": "python3"
  },
  "language_info": {
   "codemirror_mode": {
    "name": "ipython",
    "version": 3
   },
   "file_extension": ".py",
   "mimetype": "text/x-python",
   "name": "python",
   "nbconvert_exporter": "python",
   "pygments_lexer": "ipython3",
   "version": "3.7.4"
  }
 },
 "nbformat": 4,
 "nbformat_minor": 2
}
